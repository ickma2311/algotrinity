{
 "cells": [
  {
   "cell_type": "code",
   "execution_count": 1,
   "metadata": {},
   "outputs": [],
   "source": [
    "import random"
   ]
  },
  {
   "cell_type": "code",
   "execution_count": 102,
   "metadata": {},
   "outputs": [],
   "source": [
    "k = 10000\n",
    "arr = [random.randint(0, k) for _ in range(k)]\n",
    "\n",
    "sorted_arr = sorted(arr)"
   ]
  },
  {
   "cell_type": "code",
   "execution_count": 42,
   "metadata": {},
   "outputs": [
    {
     "name": "stdout",
     "output_type": "stream",
     "text": [
      "CPU times: user 1.54 ms, sys: 27 μs, total: 1.56 ms\n",
      "Wall time: 1.57 ms\n"
     ]
    }
   ],
   "source": [
    "%%time\n",
    "_=sorted(arr)"
   ]
  },
  {
   "cell_type": "markdown",
   "metadata": {},
   "source": [
    "# Merge sort\n"
   ]
  },
  {
   "cell_type": "code",
   "execution_count": 111,
   "metadata": {},
   "outputs": [],
   "source": [
    "from turtle import right\n",
    "\n",
    "\n",
    "def merge_sort1(arr):\n",
    "    src = arr.copy()\n",
    "    ans = arr.copy()\n",
    "    # for loop\n",
    "    i = 1\n",
    "    while i < len(arr):\n",
    "        for j in range(0, len(arr), i*2):\n",
    "            # step is i , 2,4,8,16...\n",
    "\n",
    "            left = j\n",
    "            middle=min(j+i,len(src))\n",
    "            right = min(j+i*2, len(src))\n",
    "\n",
    "            m,n=left,middle\n",
    "            for k in range(left,right):\n",
    "                if m>=middle:\n",
    "                    ans[k]=src[n]\n",
    "                    n+=1\n",
    "                elif n>=right:\n",
    "                    ans[k]=src[m]\n",
    "                    m+=1\n",
    "                elif src[m]>src[n]:\n",
    "                    ans[k]=src[n]\n",
    "                    n+=1\n",
    "                else:\n",
    "                    ans[k]=src[m]\n",
    "                    m+=1\n",
    "        src, ans = ans, src\n",
    "        i *= 2\n",
    "\n",
    "    return src"
   ]
  },
  {
   "cell_type": "code",
   "execution_count": 115,
   "metadata": {},
   "outputs": [
    {
     "name": "stdout",
     "output_type": "stream",
     "text": [
      "CPU times: user 12.4 ms, sys: 373 μs, total: 12.8 ms\n",
      "Wall time: 13.1 ms\n"
     ]
    }
   ],
   "source": [
    "%%time\n",
    "_=merge_sort1(arr)"
   ]
  },
  {
   "cell_type": "code",
   "execution_count": 114,
   "metadata": {},
   "outputs": [
    {
     "data": {
      "text/plain": [
       "True"
      ]
     },
     "execution_count": 114,
     "metadata": {},
     "output_type": "execute_result"
    }
   ],
   "source": [
    "merge_sort1(arr) == sorted_arr"
   ]
  },
  {
   "cell_type": "markdown",
   "metadata": {},
   "source": [
    "# Insertion Sort\n"
   ]
  },
  {
   "cell_type": "code",
   "execution_count": 4,
   "metadata": {},
   "outputs": [],
   "source": [
    "def insertion_sort(arr):\n",
    "    new_arr = arr.copy()\n",
    "    for i in range(1, len(new_arr)):\n",
    "        val = new_arr[i]\n",
    "        for j in range(i+1):\n",
    "            if val < new_arr[j]:\n",
    "                old_val = new_arr[j]\n",
    "                new_arr[j] = val\n",
    "                for k in range(j+1, i+1):\n",
    "                    new_arr[k], old_val = old_val, new_arr[k]\n",
    "                break\n",
    "    return new_arr"
   ]
  },
  {
   "cell_type": "code",
   "execution_count": 5,
   "metadata": {},
   "outputs": [
    {
     "name": "stdout",
     "output_type": "stream",
     "text": [
      "CPU times: user 780 ms, sys: 5.77 ms, total: 786 ms\n",
      "Wall time: 801 ms\n"
     ]
    }
   ],
   "source": [
    "%%time\n",
    "insertion_sort_arr=insertion_sort(arr)"
   ]
  },
  {
   "cell_type": "code",
   "execution_count": 6,
   "metadata": {},
   "outputs": [
    {
     "data": {
      "text/plain": [
       "True"
      ]
     },
     "execution_count": 6,
     "metadata": {},
     "output_type": "execute_result"
    }
   ],
   "source": [
    "insertion_sort_arr[:98] == sorted_arr[:98]"
   ]
  },
  {
   "cell_type": "markdown",
   "metadata": {},
   "source": [
    "# Counting Sort\n"
   ]
  },
  {
   "cell_type": "code",
   "execution_count": 10,
   "metadata": {},
   "outputs": [],
   "source": [
    "def counting_sort(arr, k):\n",
    "    ans = []\n",
    "    counting_map = {}\n",
    "    min_ = float('inf')\n",
    "    max_ = float('-inf')\n",
    "\n",
    "    for num in arr:\n",
    "        if num not in counting_map:\n",
    "            counting_map[num] = 0\n",
    "        if num < min_:\n",
    "            min_ = num\n",
    "        if num > max_:\n",
    "            max_ = num\n",
    "        counting_map[num] += 1\n",
    "\n",
    "    for i in range(min_, max_+1):\n",
    "        if i in counting_map:\n",
    "            for j in range(counting_map[i]):\n",
    "                ans.append(i)\n",
    "    return ans"
   ]
  },
  {
   "cell_type": "code",
   "execution_count": 11,
   "metadata": {},
   "outputs": [
    {
     "name": "stdout",
     "output_type": "stream",
     "text": [
      "CPU times: user 2.55 ms, sys: 298 μs, total: 2.85 ms\n",
      "Wall time: 3.3 ms\n"
     ]
    }
   ],
   "source": [
    "%%time\n",
    "counting_sort_arr=counting_sort(arr,k)"
   ]
  },
  {
   "cell_type": "code",
   "execution_count": 12,
   "metadata": {},
   "outputs": [
    {
     "data": {
      "text/plain": [
       "True"
      ]
     },
     "execution_count": 12,
     "metadata": {},
     "output_type": "execute_result"
    }
   ],
   "source": [
    "counting_sort_arr == sorted_arr"
   ]
  },
  {
   "cell_type": "markdown",
   "metadata": {},
   "source": [
    "# Quick Sort\n"
   ]
  },
  {
   "cell_type": "code",
   "execution_count": 34,
   "metadata": {},
   "outputs": [],
   "source": [
    "def partition(arr, p, r):\n",
    "    # we move the arr[r] to the correct position\n",
    "    # every element before arr[r] is less than arr[r]\n",
    "    # every element after arr[r] is greater than arr[r]\n",
    "    # r is the last index of the sub-array\n",
    "    # p is the index of the sub-array\n",
    "\n",
    "    small_index = p-1\n",
    "    for p in range(p, r+1):\n",
    "        if arr[p] < arr[r]:\n",
    "            arr[small_index+1], arr[p] = arr[p], arr[small_index+1]\n",
    "            small_index += 1\n",
    "    arr[small_index+1], arr[r] = arr[r], arr[small_index+1]\n",
    "    return small_index+1\n",
    "\n",
    "\n",
    "def quick_sort(arr, p, r):\n",
    "    if p < r:\n",
    "        q = partition(arr, p, r)\n",
    "        quick_sort(arr, p, q-1)\n",
    "        quick_sort(arr, q+1, r)"
   ]
  },
  {
   "cell_type": "code",
   "execution_count": 35,
   "metadata": {},
   "outputs": [],
   "source": [
    "# Given it is in-place sorting, we copy a new array\n",
    "\n",
    "new_arr = arr.copy()"
   ]
  },
  {
   "cell_type": "code",
   "execution_count": 36,
   "metadata": {},
   "outputs": [
    {
     "name": "stdout",
     "output_type": "stream",
     "text": [
      "CPU times: user 21.6 ms, sys: 3.75 ms, total: 25.3 ms\n",
      "Wall time: 32.6 ms\n"
     ]
    }
   ],
   "source": [
    "%%time\n",
    "quick_sort(new_arr,0,len(arr)-1)"
   ]
  },
  {
   "cell_type": "code",
   "execution_count": 39,
   "metadata": {},
   "outputs": [
    {
     "data": {
      "text/plain": [
       "True"
      ]
     },
     "execution_count": 39,
     "metadata": {},
     "output_type": "execute_result"
    }
   ],
   "source": [
    "new_arr == list(sorted(new_arr))"
   ]
  },
  {
   "cell_type": "markdown",
   "metadata": {},
   "source": [
    "# QuickSort Complexity Analysis\n",
    "\n",
    "## Best Case: $O(n \\log n)$\n",
    "\n",
    "In the optimal scenario, the partition operation always selects the median element as the pivot:\n",
    "\n",
    "- **First partition**: The array is divided into 2 equal halves\n",
    "- **Second partition**: Each half is further divided, creating 4 subarrays\n",
    "- **Recursive pattern**: At the $k$-th level, we have $2^k$ subarrays\n",
    "\n",
    "Since we split the array in half at each level, we need exactly $\\log_2 n$ levels to reduce all subarrays to size 1.\n",
    "\n",
    "At each level, we perform $O(n)$ comparisons across all partitions (each element is compared once per level).\n",
    "\n",
    "**Total complexity**: $O(n) \\times O(\\log n) = O(n \\log n)$\n",
    "\n",
    "## Worst Case: $O(n^2)$\n",
    "\n",
    "In the worst-case scenario, the partition consistently selects either the smallest or largest element as the pivot:\n",
    "\n",
    "- This creates highly unbalanced partitions (one subarray with $n-1$ elements, another with 0 elements)\n",
    "- We need $n$ recursive calls instead of $\\log n$\n",
    "- Each call still requires $O(n)$ comparisons\n",
    "\n",
    "**Total complexity**: $O(n) \\times O(n) = O(n^2)$\n",
    "\n",
    "This worst case occurs when the input array is already sorted (ascending or descending) and we always choose the first or last element as the pivot.\n"
   ]
  },
  {
   "cell_type": "markdown",
   "metadata": {},
   "source": []
  }
 ],
 "metadata": {
  "kernelspec": {
   "display_name": "kaggle",
   "language": "python",
   "name": "python3"
  },
  "language_info": {
   "codemirror_mode": {
    "name": "ipython",
    "version": 3
   },
   "file_extension": ".py",
   "mimetype": "text/x-python",
   "name": "python",
   "nbconvert_exporter": "python",
   "pygments_lexer": "ipython3",
   "version": "3.12.9"
  }
 },
 "nbformat": 4,
 "nbformat_minor": 2
}
