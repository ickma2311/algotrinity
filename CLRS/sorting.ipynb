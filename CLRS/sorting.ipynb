{
 "cells": [
  {
   "cell_type": "code",
   "execution_count": 117,
   "metadata": {},
   "outputs": [],
   "source": [
    "import random"
   ]
  },
  {
   "cell_type": "code",
   "execution_count": 118,
   "metadata": {},
   "outputs": [],
   "source": [
    "k = 10000\n",
    "arr = [random.randint(0, k) for _ in range(k)]\n",
    "\n",
    "sorted_arr = sorted(arr)"
   ]
  },
  {
   "cell_type": "code",
   "execution_count": 119,
   "metadata": {},
   "outputs": [
    {
     "name": "stdout",
     "output_type": "stream",
     "text": [
      "CPU times: user 924 μs, sys: 54 μs, total: 978 μs\n",
      "Wall time: 995 μs\n"
     ]
    }
   ],
   "source": [
    "%%time\n",
    "_=sorted(arr)"
   ]
  },
  {
   "cell_type": "markdown",
   "metadata": {},
   "source": [
    "# Merge sort\n"
   ]
  },
  {
   "cell_type": "code",
   "execution_count": 120,
   "metadata": {},
   "outputs": [],
   "source": [
    "\n",
    "\n",
    "def merge_sort1(arr):\n",
    "    src = arr.copy()\n",
    "    ans = arr.copy()\n",
    "    # for loop\n",
    "    i = 1\n",
    "    while i < len(arr):\n",
    "        for j in range(0, len(arr), i*2):\n",
    "            # step is i , 2,4,8,16...\n",
    "\n",
    "            left = j\n",
    "            middle=min(j+i,len(src))\n",
    "            right = min(j+i*2, len(src))\n",
    "\n",
    "            m,n=left,middle\n",
    "            for k in range(left,right):\n",
    "                if m>=middle:\n",
    "                    ans[k]=src[n]\n",
    "                    n+=1\n",
    "                elif n>=right:\n",
    "                    ans[k]=src[m]\n",
    "                    m+=1\n",
    "                elif src[m]>src[n]:\n",
    "                    ans[k]=src[n]\n",
    "                    n+=1\n",
    "                else:\n",
    "                    ans[k]=src[m]\n",
    "                    m+=1\n",
    "        src, ans = ans, src\n",
    "        i *= 2\n",
    "\n",
    "    return src\n",
    "\n",
    "\n",
    "def merge_sort2(arr):\n",
    "    # Recursive merge sort implementation\n",
    "    # Time Complexity: O(n log n)\n",
    "    # Space Complexity: O(n)\n",
    "    # Divide array into two halves, recursively sort each half, then merge\n",
    "    pass"
   ]
  },
  {
   "cell_type": "code",
   "execution_count": 121,
   "metadata": {},
   "outputs": [
    {
     "name": "stdout",
     "output_type": "stream",
     "text": [
      "CPU times: user 9.28 ms, sys: 155 μs, total: 9.43 ms\n",
      "Wall time: 9.61 ms\n"
     ]
    }
   ],
   "source": [
    "%%time\n",
    "_=merge_sort1(arr)"
   ]
  },
  {
   "cell_type": "code",
   "execution_count": 122,
   "metadata": {},
   "outputs": [
    {
     "data": {
      "text/plain": [
       "True"
      ]
     },
     "execution_count": 122,
     "metadata": {},
     "output_type": "execute_result"
    }
   ],
   "source": [
    "merge_sort1(arr) == sorted_arr"
   ]
  },
  {
   "cell_type": "markdown",
   "metadata": {},
   "source": [
    "# Insertion Sort\n"
   ]
  },
  {
   "cell_type": "code",
   "execution_count": 123,
   "metadata": {},
   "outputs": [],
   "source": [
    "def insertion_sort(arr):\n",
    "    new_arr = arr.copy()\n",
    "    for i in range(1, len(new_arr)):\n",
    "        val = new_arr[i]\n",
    "        for j in range(i+1):\n",
    "            if val < new_arr[j]:\n",
    "                old_val = new_arr[j]\n",
    "                new_arr[j] = val\n",
    "                for k in range(j+1, i+1):\n",
    "                    new_arr[k], old_val = old_val, new_arr[k]\n",
    "                break\n",
    "    return new_arr"
   ]
  },
  {
   "cell_type": "code",
   "execution_count": 124,
   "metadata": {},
   "outputs": [
    {
     "name": "stdout",
     "output_type": "stream",
     "text": [
      "CPU times: user 772 ms, sys: 4.94 ms, total: 777 ms\n",
      "Wall time: 782 ms\n"
     ]
    }
   ],
   "source": [
    "%%time\n",
    "insertion_sort_arr=insertion_sort(arr)"
   ]
  },
  {
   "cell_type": "code",
   "execution_count": 125,
   "metadata": {},
   "outputs": [
    {
     "data": {
      "text/plain": [
       "True"
      ]
     },
     "execution_count": 125,
     "metadata": {},
     "output_type": "execute_result"
    }
   ],
   "source": [
    "insertion_sort_arr == sorted_arr"
   ]
  },
  {
   "cell_type": "markdown",
   "metadata": {},
   "source": [
    "# Counting Sort\n"
   ]
  },
  {
   "cell_type": "code",
   "execution_count": 126,
   "metadata": {},
   "outputs": [],
   "source": [
    "def counting_sort(arr, k):\n",
    "    ans = []\n",
    "    counting_map = {}\n",
    "    min_ = float('inf')\n",
    "    max_ = float('-inf')\n",
    "\n",
    "    for num in arr:\n",
    "        if num not in counting_map:\n",
    "            counting_map[num] = 0\n",
    "        if num < min_:\n",
    "            min_ = num\n",
    "        if num > max_:\n",
    "            max_ = num\n",
    "        counting_map[num] += 1\n",
    "\n",
    "    for i in range(min_, max_+1):\n",
    "        if i in counting_map:\n",
    "            for j in range(counting_map[i]):\n",
    "                ans.append(i)\n",
    "    return ans"
   ]
  },
  {
   "cell_type": "code",
   "execution_count": 127,
   "metadata": {},
   "outputs": [
    {
     "name": "stdout",
     "output_type": "stream",
     "text": [
      "CPU times: user 1.31 ms, sys: 197 μs, total: 1.5 ms\n",
      "Wall time: 1.61 ms\n"
     ]
    }
   ],
   "source": [
    "%%time\n",
    "counting_sort_arr=counting_sort(arr,k)"
   ]
  },
  {
   "cell_type": "code",
   "execution_count": 128,
   "metadata": {},
   "outputs": [
    {
     "data": {
      "text/plain": [
       "True"
      ]
     },
     "execution_count": 128,
     "metadata": {},
     "output_type": "execute_result"
    }
   ],
   "source": [
    "counting_sort_arr == sorted_arr"
   ]
  },
  {
   "cell_type": "markdown",
   "metadata": {},
   "source": [
    "# Quick Sort\n"
   ]
  },
  {
   "cell_type": "code",
   "execution_count": 129,
   "metadata": {},
   "outputs": [],
   "source": [
    "def partition(arr, p, r):\n",
    "    # we move the arr[r] to the correct position\n",
    "    # every element before arr[r] is less than arr[r]\n",
    "    # every element after arr[r] is greater than arr[r]\n",
    "    # r is the last index of the sub-array\n",
    "    # p is the index of the sub-array\n",
    "\n",
    "    small_index = p-1\n",
    "    for p in range(p, r+1):\n",
    "        if arr[p] < arr[r]:\n",
    "            arr[small_index+1], arr[p] = arr[p], arr[small_index+1]\n",
    "            small_index += 1\n",
    "    arr[small_index+1], arr[r] = arr[r], arr[small_index+1]\n",
    "    return small_index+1\n",
    "\n",
    "\n",
    "def quick_sort(arr, p, r):\n",
    "    if p < r:\n",
    "        q = partition(arr, p, r)\n",
    "        quick_sort(arr, p, q-1)\n",
    "        quick_sort(arr, q+1, r)"
   ]
  },
  {
   "cell_type": "code",
   "execution_count": 130,
   "metadata": {},
   "outputs": [],
   "source": [
    "# Given it is in-place sorting, we copy a new array\n",
    "\n",
    "new_arr = arr.copy()"
   ]
  },
  {
   "cell_type": "code",
   "execution_count": 131,
   "metadata": {},
   "outputs": [
    {
     "name": "stdout",
     "output_type": "stream",
     "text": [
      "CPU times: user 7.3 ms, sys: 88 μs, total: 7.39 ms\n",
      "Wall time: 7.44 ms\n"
     ]
    }
   ],
   "source": [
    "%%time\n",
    "quick_sort(new_arr,0,len(arr)-1)"
   ]
  },
  {
   "cell_type": "code",
   "execution_count": 132,
   "metadata": {},
   "outputs": [
    {
     "data": {
      "text/plain": [
       "True"
      ]
     },
     "execution_count": 132,
     "metadata": {},
     "output_type": "execute_result"
    }
   ],
   "source": [
    "new_arr == list(sorted(new_arr))"
   ]
  },
  {
   "cell_type": "markdown",
   "metadata": {},
   "source": [
    "# QuickSort Complexity Analysis\n",
    "\n",
    "## Best Case: $O(n \\log n)$\n",
    "\n",
    "In the optimal scenario, the partition operation always selects the median element as the pivot:\n",
    "\n",
    "- **First partition**: The array is divided into 2 equal halves\n",
    "- **Second partition**: Each half is further divided, creating 4 subarrays\n",
    "- **Recursive pattern**: At the $k$-th level, we have $2^k$ subarrays\n",
    "\n",
    "Since we split the array in half at each level, we need exactly $\\log_2 n$ levels to reduce all subarrays to size 1.\n",
    "\n",
    "At each level, we perform $O(n)$ comparisons across all partitions (each element is compared once per level).\n",
    "\n",
    "**Total complexity**: $O(n) \\times O(\\log n) = O(n \\log n)$\n",
    "\n",
    "## Worst Case: $O(n^2)$\n",
    "\n",
    "In the worst-case scenario, the partition consistently selects either the smallest or largest element as the pivot:\n",
    "\n",
    "- This creates highly unbalanced partitions (one subarray with $n-1$ elements, another with 0 elements)\n",
    "- We need $n$ recursive calls instead of $\\log n$\n",
    "- Each call still requires $O(n)$ comparisons\n",
    "\n",
    "**Total complexity**: $O(n) \\times O(n) = O(n^2)$\n",
    "\n",
    "This worst case occurs when the input array is already sorted (ascending or descending) and we always choose the first or last element as the pivot.\n"
   ]
  },
  {
   "cell_type": "markdown",
   "metadata": {},
   "source": []
  },
  {
   "cell_type": "raw",
   "metadata": {
    "vscode": {
     "languageId": "raw"
    }
   },
   "source": [
    "# Heap Sort\n"
   ]
  },
  {
   "cell_type": "code",
   "execution_count": null,
   "metadata": {},
   "outputs": [],
   "source": [
    "def heapify(arr, n, i):\n",
    "    # Maintain max heap property at index i\n",
    "    # Time Complexity: O(log n)\n",
    "    # Compare node with its children and swap if necessary, then recursively heapify\n",
    "    pass\n",
    "\n",
    "def heap_sort(arr):\n",
    "    # Heap sort implementation\n",
    "    # Time Complexity: O(n log n)\n",
    "    # Space Complexity: O(1) - in-place sorting\n",
    "    # Build max heap, then repeatedly extract maximum element\n",
    "    pass\n"
   ]
  },
  {
   "cell_type": "code",
   "execution_count": null,
   "metadata": {},
   "outputs": [],
   "source": [
    "%%time\n",
    "heap_sort_arr = heap_sort(arr)\n"
   ]
  },
  {
   "cell_type": "code",
   "execution_count": null,
   "metadata": {},
   "outputs": [],
   "source": [
    "heap_sort_arr == sorted_arr\n"
   ]
  },
  {
   "cell_type": "raw",
   "metadata": {
    "vscode": {
     "languageId": "raw"
    }
   },
   "source": [
    "# Radix Sort\n"
   ]
  },
  {
   "cell_type": "code",
   "execution_count": null,
   "metadata": {},
   "outputs": [],
   "source": [
    "def counting_sort_for_radix(arr, exp):\n",
    "    # Counting sort for radix sort (stable sort by digit)\n",
    "    # exp: current digit position (1, 10, 100, ...)\n",
    "    # Sort array by specific digit position using counting sort\n",
    "    pass\n",
    "\n",
    "def radix_sort(arr):\n",
    "    # Radix sort for non-negative integers\n",
    "    # Time Complexity: O(d * (n + k)) where d is number of digits, k is range of digits\n",
    "    # Space Complexity: O(n + k)\n",
    "    # Sort by each digit from least significant to most significant\n",
    "    pass\n"
   ]
  },
  {
   "cell_type": "code",
   "execution_count": null,
   "metadata": {},
   "outputs": [],
   "source": [
    "%%time\n",
    "radix_sort_arr = radix_sort(arr)\n"
   ]
  },
  {
   "cell_type": "code",
   "execution_count": null,
   "metadata": {},
   "outputs": [],
   "source": [
    "radix_sort_arr == sorted_arr\n"
   ]
  },
  {
   "cell_type": "raw",
   "metadata": {
    "vscode": {
     "languageId": "raw"
    }
   },
   "source": [
    "# Bucket Sort\n"
   ]
  },
  {
   "cell_type": "code",
   "execution_count": null,
   "metadata": {},
   "outputs": [],
   "source": [
    "def bucket_sort(arr, num_buckets=10):\n",
    "    # Bucket sort for uniformly distributed data\n",
    "    # Time Complexity: O(n + k) average case, O(n²) worst case\n",
    "    # Space Complexity: O(n + k) where k is number of buckets\n",
    "    # Distribute elements into buckets, sort each bucket, then concatenate\n",
    "    pass\n"
   ]
  },
  {
   "cell_type": "code",
   "execution_count": null,
   "metadata": {},
   "outputs": [],
   "source": [
    "%%time\n",
    "bucket_sort_arr = bucket_sort(arr)\n"
   ]
  },
  {
   "cell_type": "code",
   "execution_count": null,
   "metadata": {},
   "outputs": [],
   "source": [
    "bucket_sort_arr == sorted_arr\n"
   ]
  },
  {
   "cell_type": "raw",
   "metadata": {
    "vscode": {
     "languageId": "raw"
    }
   },
   "source": [
    "# Sorting Algorithms Comparison\n",
    "\n",
    "| Algorithm | Best Case | Average Case | Worst Case | Space Complexity | Stable | In-Place |\n",
    "|-----------|-----------|--------------|------------|------------------|--------|----------|\n",
    "| **Insertion Sort** | O(n) | O(n²) | O(n²) | O(1) | Yes | Yes |\n",
    "| **Merge Sort** | O(n log n) | O(n log n) | O(n log n) | O(n) | Yes | No |\n",
    "| **Quick Sort** | O(n log n) | O(n log n) | O(n²) | O(log n) | No | Yes |\n",
    "| **Heap Sort** | O(n log n) | O(n log n) | O(n log n) | O(1) | No | Yes |\n",
    "| **Counting Sort** | O(n + k) | O(n + k) | O(n + k) | O(k) | Yes | No |\n",
    "| **Radix Sort** | O(d(n + k)) | O(d(n + k)) | O(d(n + k)) | O(n + k) | Yes | No |\n",
    "| **Bucket Sort** | O(n + k) | O(n + k) | O(n²) | O(n + k) | Yes | No |\n",
    "\n",
    "**Notes:**\n",
    "- k = range of input values\n",
    "- d = number of digits  \n",
    "- Stable = maintains relative order of equal elements\n",
    "- In-Place = uses O(1) extra space\n"
   ]
  }
 ],
 "metadata": {
  "kernelspec": {
   "display_name": "kaggle",
   "language": "python",
   "name": "python3"
  },
  "language_info": {
   "codemirror_mode": {
    "name": "ipython",
    "version": 3
   },
   "file_extension": ".py",
   "mimetype": "text/x-python",
   "name": "python",
   "nbconvert_exporter": "python",
   "pygments_lexer": "ipython3",
   "version": "3.12.9"
  }
 },
 "nbformat": 4,
 "nbformat_minor": 2
}
